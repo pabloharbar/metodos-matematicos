{
 "cells": [
  {
   "cell_type": "markdown",
   "id": "5f566998",
   "metadata": {},
   "source": [
    "https://docs.sympy.org/latest/guides/solving/solve-ode.html\n",
    "https://snip.mathpix.com/pablopenas/snips/37198789-176c-4269-9b11-ed16c15dbfd9\n"
   ]
  },
  {
   "cell_type": "code",
   "execution_count": 1,
   "id": "8ee5457c",
   "metadata": {},
   "outputs": [],
   "source": [
    "import matplotlib.pyplot as plt\n",
    "from sympy import lambdify\n",
    "import numpy as np\n",
    "from sympy import Function, dsolve, Derivative\n",
    "from sympy.parsing.latex import parse_latex\n",
    "from sympy.abc import x\n",
    "from sympy import Eq, Derivative, symbols, Function, cos, exp, sin\n",
    "import math"
   ]
  },
  {
   "cell_type": "markdown",
   "id": "509e0650",
   "metadata": {},
   "source": [
    "### Seção 2.1 Exercicio 3\n"
   ]
  },
  {
   "cell_type": "code",
   "execution_count": 2,
   "id": "cebc5237",
   "metadata": {},
   "outputs": [
    {
     "name": "stdout",
     "output_type": "stream",
     "text": [
      "Equação diferencial:  Eq(Derivative(y(x), x) + Derivative(y(x), (x, 2)), 0)\n",
      "Solução Geral:  Eq(y(x), C1 + C2*exp(-x))\n"
     ]
    }
   ],
   "source": [
    "y = Function(\"y\")\n",
    "\n",
    "eq = Eq(Derivative(y(x), x, x) + Derivative(y(x), x), 0)\n",
    "\n",
    "print(\"Equação diferencial: \", eq)\n",
    "print(\"Solução Geral: \", dsolve(eq, y(x)))"
   ]
  },
  {
   "cell_type": "markdown",
   "id": "f5d5536b",
   "metadata": {},
   "source": [
    "### Seção 2.1 Exercicio 5\n"
   ]
  },
  {
   "cell_type": "markdown",
   "id": "3e8feeb5",
   "metadata": {},
   "source": [
    "### Seção 2.1 Exercicio 7\n"
   ]
  },
  {
   "cell_type": "markdown",
   "id": "be2e8a90",
   "metadata": {},
   "source": [
    "### Seção 2.1 Exercicio 9\n"
   ]
  },
  {
   "cell_type": "markdown",
   "id": "9e854f92",
   "metadata": {},
   "source": [
    "### Seção 2.2 Exercicio 7\n"
   ]
  },
  {
   "cell_type": "code",
   "execution_count": 15,
   "id": "ca8c194e",
   "metadata": {},
   "outputs": [
    {
     "name": "stdout",
     "output_type": "stream",
     "text": [
      "Equação diferencial:  Eq(4.5*Derivative(y(x), x) + Derivative(y(x), (x, 2)), 0)\n",
      "Solução Geral:  Eq(y(x), C1 + C2*exp(-4.5*x))\n"
     ]
    }
   ],
   "source": [
    "y = Function(\"y\")\n",
    "\n",
    "eq = Eq(Derivative(y(x), x, x) + 4.5 * Derivative(y(x), x), 0)\n",
    "\n",
    "print(\"Equação diferencial: \", eq)\n",
    "print(\"Solução Geral: \", dsolve(eq, y(x)))"
   ]
  },
  {
   "cell_type": "markdown",
   "id": "7347a05e",
   "metadata": {},
   "source": [
    "### Seção 2.2 Exercicio 9\n"
   ]
  },
  {
   "cell_type": "code",
   "execution_count": null,
   "id": "56bed08a",
   "metadata": {},
   "outputs": [
    {
     "name": "stdout",
     "output_type": "stream",
     "text": [
      "Equação diferencial:  Eq(-2.08*y(x) + 1.8*Derivative(y(x), x) + Derivative(y(x), (x, 2)), 0)\n",
      "Solução Geral:  Eq(y(x), C1*exp(-2.6*x) + C2*exp(0.8*x))\n"
     ]
    }
   ],
   "source": [
    "y = Function(\"y\")\n",
    "\n",
    "eq = Eq(Derivative(y(x), x, x) - 2.08 * y(x) + 1.8 * Derivative(y(x), x), 0)\n",
    "\n",
    "print(\"Equação diferencial: \", eq)\n",
    "print(\"Solução Geral: \", dsolve(eq, y(x)))"
   ]
  },
  {
   "cell_type": "markdown",
   "id": "b5d3d933",
   "metadata": {},
   "source": [
    "### Seção 2.2 Exercicio 11\n"
   ]
  },
  {
   "cell_type": "markdown",
   "id": "0dce5d90",
   "metadata": {},
   "source": [
    "### Seção 2.2 Exercicio 17\n"
   ]
  },
  {
   "cell_type": "markdown",
   "id": "8f8e325b",
   "metadata": {},
   "source": [
    "### Seção 2.2 Exercicio 19\n"
   ]
  },
  {
   "cell_type": "markdown",
   "id": "1d3db9cc",
   "metadata": {},
   "source": [
    "### Seção 2.2 Exercicio 21\n"
   ]
  },
  {
   "cell_type": "markdown",
   "id": "ee911c63",
   "metadata": {},
   "source": [
    "### Seção 2.2 Exercicio 23\n"
   ]
  },
  {
   "cell_type": "markdown",
   "id": "1e98f6ff",
   "metadata": {},
   "source": [
    "### Seção 2.2 Exercicio 25\n"
   ]
  },
  {
   "cell_type": "markdown",
   "id": "eddd0f5f",
   "metadata": {},
   "source": [
    "### Seção 2.2 Exercicio 31\n"
   ]
  },
  {
   "cell_type": "markdown",
   "id": "c122d646",
   "metadata": {},
   "source": [
    "### Seção 2.2 Exercicio 35\n"
   ]
  },
  {
   "cell_type": "markdown",
   "id": "1b5f9073",
   "metadata": {},
   "source": [
    "### Seção 2.5 Exercicio 3\n"
   ]
  },
  {
   "cell_type": "markdown",
   "id": "c561905b",
   "metadata": {},
   "source": [
    "### Seção 2.5 Exercicio 5\n"
   ]
  },
  {
   "cell_type": "markdown",
   "id": "3ef91a86",
   "metadata": {},
   "source": [
    "### Seção 2.5 Exercicio 7\n"
   ]
  },
  {
   "cell_type": "markdown",
   "id": "a1053839",
   "metadata": {},
   "source": [
    "### Seção 2.5 Exercicio 13\n"
   ]
  },
  {
   "cell_type": "markdown",
   "id": "fa84f0cd",
   "metadata": {},
   "source": [
    "### Seção 2.5 Exercicio 15\n"
   ]
  },
  {
   "cell_type": "markdown",
   "id": "8441b897",
   "metadata": {},
   "source": [
    "### Seção 2.6 Exercicio 3\n"
   ]
  },
  {
   "cell_type": "markdown",
   "id": "350e5ed1",
   "metadata": {},
   "source": [
    "### Seção 2.6 Exercicio 5\n"
   ]
  },
  {
   "cell_type": "markdown",
   "id": "8845e6d4",
   "metadata": {},
   "source": [
    "### Seção 2.6 Exercicio 9\n"
   ]
  },
  {
   "cell_type": "markdown",
   "id": "127876f0",
   "metadata": {},
   "source": [
    "### Seção 2.6 Exercicio 11\n"
   ]
  },
  {
   "cell_type": "markdown",
   "id": "a4d83921",
   "metadata": {},
   "source": [
    "### Seção 2.7 Exercicio 2\n"
   ]
  },
  {
   "cell_type": "markdown",
   "id": "726c0d3f",
   "metadata": {},
   "source": [
    "### Seção 2.7 Exercicio 12\n"
   ]
  },
  {
   "cell_type": "markdown",
   "id": "e551a4bd",
   "metadata": {},
   "source": [
    "### Seção 2.10 Exercicio 3\n"
   ]
  },
  {
   "cell_type": "markdown",
   "id": "54fe3814",
   "metadata": {},
   "source": [
    "### Seção 2.10 Exercicio 5\n"
   ]
  },
  {
   "cell_type": "code",
   "execution_count": 3,
   "id": "2881dfd7",
   "metadata": {},
   "outputs": [
    {
     "name": "stdout",
     "output_type": "stream",
     "text": [
      "Equação diferencial:  Eq(Derivative(y(x), x), 4*exp(-x)*cos(x))\n",
      "Solução Geral:  Eq(y(x), C1 + 2*exp(-x)*sin(x) - 2*exp(-x)*cos(x))\n"
     ]
    }
   ],
   "source": [
    "y = Function(\"y\")\n",
    "\n",
    "latex_str = r\"\\frac{d y}{d x}=4 A \\cos x\"\n",
    "parsed = parse_latex(latex_str)\n",
    "eq = parsed.subs({symbols(\"y\"): y(x), symbols(\"A\"): exp(-x)})\n",
    "\n",
    "print(\"Equação diferencial: \", eq)\n",
    "print(\"Solução Geral: \", dsolve(eq, y(x)))"
   ]
  },
  {
   "cell_type": "markdown",
   "id": "a83c1609",
   "metadata": {},
   "source": [
    "### Seção 1.1 Exercicio 8\n"
   ]
  },
  {
   "cell_type": "code",
   "execution_count": 4,
   "id": "681be1ce",
   "metadata": {},
   "outputs": [
    {
     "name": "stdout",
     "output_type": "stream",
     "text": [
      "Equação diferencial:  Eq(Derivative(y(x), (x, 3)), exp(-0.2*x))\n",
      "Solução Geral:  Eq(y(x), C1 + C2*x + C3*x**2 - 125.0*exp(-0.2*x))\n"
     ]
    }
   ],
   "source": [
    "y = Function(\"y\")\n",
    "\n",
    "eq = Eq(Derivative(y(x), x, x, x), exp(-0.2 * x))\n",
    "\n",
    "print(\"Equação diferencial: \", eq)\n",
    "print(\"Solução Geral: \", dsolve(eq, y(x)))"
   ]
  },
  {
   "cell_type": "markdown",
   "id": "3a5de498",
   "metadata": {},
   "source": [
    "### Seção 1.1 Exercicio 9\n"
   ]
  },
  {
   "cell_type": "code",
   "execution_count": 5,
   "id": "befe5f15",
   "metadata": {},
   "outputs": [
    {
     "name": "stdout",
     "output_type": "stream",
     "text": [
      "Equação diferencial:  Eq(4*y(x) + Derivative(y(x), x), 1.4)\n",
      "Solução Geral:  Eq(y(x), C1*exp(-4.0*x) + 0.35)\n",
      "Solução Particular:  Eq(y(x), 0.35 + 1.65*exp(-4.0*x))\n"
     ]
    },
    {
     "data": {
      "image/png": "[encoded data removed]",
      "text/plain": [
       "<Figure size 640x480 with 1 Axes>"
      ]
     },
     "metadata": {},
     "output_type": "display_data"
    }
   ],
   "source": [
    "y = Function(\"y\")\n",
    "\n",
    "eq = Eq(Derivative(y(x), x) + 4 * y(x), 1.4)\n",
    "result = dsolve(eq, y(x), ics={y(0): 2})\n",
    "\n",
    "print(\"Equação diferencial: \", eq)\n",
    "print(\"Solução Geral: \", dsolve(eq, y(x)))\n",
    "print(\"Solução Particular: \", result)\n",
    "\n",
    "y_func = lambdify(x, result.rhs, modules=[\"numpy\"])\n",
    "x_vals = np.linspace(0, 2, 100)\n",
    "y_vals = y_func(x_vals)\n",
    "\n",
    "plt.plot(x_vals, y_vals)\n",
    "plt.xlabel(\"x\")\n",
    "plt.ylabel(\"y\")\n",
    "plt.show()"
   ]
  },
  {
   "cell_type": "markdown",
   "id": "76f5ecc8",
   "metadata": {},
   "source": [
    "### Seção 1.1 Exercicio 11\n"
   ]
  },
  {
   "cell_type": "code",
   "execution_count": 6,
   "id": "516631d1",
   "metadata": {},
   "outputs": [
    {
     "name": "stdout",
     "output_type": "stream",
     "text": [
      "Equação diferencial:  Eq(Derivative(y(x), x), y(x) + exp(x))\n",
      "Solução Geral:  Eq(y(x), (C1 + x)*exp(x))\n",
      "Solução Particular:  Eq(y(x), (x + 0.5)*exp(x))\n"
     ]
    },
    {
     "data": {
      "image/png": "[encoded data removed]",
      "text/plain": [
       "<Figure size 640x480 with 1 Axes>"
      ]
     },
     "metadata": {},
     "output_type": "display_data"
    }
   ],
   "source": [
    "y = Function(\"y\")\n",
    "\n",
    "eq = Eq(Derivative(y(x), x), y(x) + exp(x))\n",
    "result = dsolve(eq, y(x), ics={y(0): 0.5})\n",
    "\n",
    "print(\"Equação diferencial: \", eq)\n",
    "print(\"Solução Geral: \", dsolve(eq, y(x)))\n",
    "print(\"Solução Particular: \", result)\n",
    "\n",
    "y_func = lambdify(x, result.rhs, modules=[\"numpy\"])\n",
    "x_vals = np.linspace(0, 2, 100)\n",
    "y_vals = y_func(x_vals)\n",
    "\n",
    "plt.plot(x_vals, y_vals)\n",
    "plt.xlabel(\"x\")\n",
    "plt.ylabel(\"y\")\n",
    "plt.show()"
   ]
  },
  {
   "cell_type": "markdown",
   "id": "901342d3",
   "metadata": {},
   "source": [
    "### Seção 1.1 Exercicio 19\n"
   ]
  },
  {
   "cell_type": "code",
   "execution_count": 7,
   "id": "0cba2261",
   "metadata": {},
   "outputs": [],
   "source": [
    "y = Function(\"y\")\n",
    "\n",
    "# eq = Eq(Derivative(y(x), x, x), 9.81)\n",
    "# result = dsolve(eq, y(x), ics={y(0): 0, Derivative(y(x), x).subs(x, 0): 0})\n",
    "\n",
    "# print(\"Equação diferencial: \", eq)\n",
    "# print(\"Solução Geral: \", dsolve(eq, y(x)))\n",
    "# print(\"Solução Particular: \", result)\n",
    "\n",
    "# y_func = lambdify(x, result.rhs, modules=[\"numpy\"])\n",
    "# x_vals = np.linspace(0, 2, 100)\n",
    "# y_vals = y_func(x_vals)\n",
    "\n",
    "# plt.plot(x_vals, y_vals)\n",
    "# plt.xlabel(\"x\")\n",
    "# plt.ylabel(\"y\")\n",
    "# plt.show()"
   ]
  },
  {
   "cell_type": "markdown",
   "id": "8b0262b8",
   "metadata": {},
   "source": [
    "### Seção 1.3 Exercicio 5\n"
   ]
  },
  {
   "cell_type": "code",
   "execution_count": null,
   "id": "da16e4b1",
   "metadata": {},
   "outputs": [
    {
     "name": "stdout",
     "output_type": "stream",
     "text": [
      "Equação diferencial:  Eq(y(x)*Derivative(y(x), x), -36*x)\n",
      "Solução Geral:  [Eq(y(x), -sqrt(C1 - 36*x**2)), Eq(y(x), sqrt(C1 - 36*x**2))]\n"
     ]
    }
   ],
   "source": [
    "y = Function(\"y\")\n",
    "\n",
    "eq = Eq(Derivative(y(x), x) * y(x), -36 * x)\n",
    "\n",
    "print(\"Equação diferencial: \", eq)\n",
    "print(\"Solução Geral: \", dsolve(eq, y(x)))"
   ]
  },
  {
   "cell_type": "markdown",
   "id": "1c447b43",
   "metadata": {},
   "source": [
    "### Seção 1.3 Exercicio 9\n"
   ]
  },
  {
   "cell_type": "code",
   "execution_count": 11,
   "id": "670b6e92",
   "metadata": {},
   "outputs": [
    {
     "name": "stdout",
     "output_type": "stream",
     "text": [
      "Equação diferencial:  Eq(x**2*Derivative(y(x), x), x**2*y(x)**2)\n",
      "Solução Geral:  Eq(y(x), -1/(C1 + x))\n"
     ]
    }
   ],
   "source": [
    "y = Function(\"y\")\n",
    "\n",
    "eq = Eq(Derivative(y(x), x) * x**2, y(x) ** 2 * x**2)\n",
    "\n",
    "print(\"Equação diferencial: \", eq)\n",
    "print(\"Solução Geral: \", dsolve(eq, y(x)))"
   ]
  },
  {
   "cell_type": "markdown",
   "id": "6e687bfe",
   "metadata": {},
   "source": [
    "### Seção 1.3 Exercicio 11\n"
   ]
  },
  {
   "cell_type": "code",
   "execution_count": 12,
   "id": "2c2c5c85",
   "metadata": {},
   "outputs": [
    {
     "name": "stdout",
     "output_type": "stream",
     "text": [
      "Equação diferencial:  Eq(x*Derivative(y(x), x), -y(x))\n",
      "Solução Geral:  Eq(y(x), C1/x)\n",
      "Solução Particular:  Eq(y(x), 24/x)\n"
     ]
    },
    {
     "name": "stderr",
     "output_type": "stream",
     "text": [
      "<lambdifygenerated-4>:2: RuntimeWarning: divide by zero encountered in divide\n",
      "  return 24/x\n"
     ]
    },
    {
     "data": {
      "image/png": "[encoded data removed]",
      "text/plain": [
       "<Figure size 640x480 with 1 Axes>"
      ]
     },
     "metadata": {},
     "output_type": "display_data"
    }
   ],
   "source": [
    "y = Function(\"y\")\n",
    "\n",
    "eq = Eq(Derivative(y(x), x) * x, -y(x))\n",
    "result = dsolve(eq, y(x), ics={y(4): 6})\n",
    "\n",
    "print(\"Equação diferencial: \", eq)\n",
    "print(\"Solução Geral: \", dsolve(eq, y(x)))\n",
    "print(\"Solução Particular: \", result)\n",
    "\n",
    "y_func = lambdify(x, result.rhs, modules=[\"numpy\"])\n",
    "x_vals = np.linspace(0, 2, 100)\n",
    "y_vals = y_func(x_vals)\n",
    "\n",
    "plt.plot(x_vals, y_vals)\n",
    "plt.xlabel(\"x\")\n",
    "plt.ylabel(\"y\")\n",
    "plt.show()"
   ]
  },
  {
   "cell_type": "markdown",
   "id": "c18fdbdb",
   "metadata": {},
   "source": [
    "### Seção 1.3 Exercicio 15\n"
   ]
  },
  {
   "cell_type": "code",
   "execution_count": 13,
   "id": "3afa1af1",
   "metadata": {},
   "outputs": [
    {
     "name": "stdout",
     "output_type": "stream",
     "text": [
      "Equação diferencial:  Eq(Derivative(y(x), x), -4*x/y(x))\n",
      "Solução Geral:  [Eq(y(x), -sqrt(C1 - 4*x**2)), Eq(y(x), sqrt(C1 - 4*x**2))]\n",
      "Solução Particular:  Eq(y(x), sqrt(25 - 4*x**2))\n"
     ]
    },
    {
     "data": {
      "image/png": "[encoded data removed]",
      "text/plain": [
       "<Figure size 640x480 with 1 Axes>"
      ]
     },
     "metadata": {},
     "output_type": "display_data"
    }
   ],
   "source": [
    "y = Function(\"y\")\n",
    "\n",
    "eq = Eq(Derivative(y(x), x), -4 * x / y(x))\n",
    "result = dsolve(eq, y(x), ics={y(2): 3})\n",
    "\n",
    "print(\"Equação diferencial: \", eq)\n",
    "print(\"Solução Geral: \", dsolve(eq, y(x)))\n",
    "print(\"Solução Particular: \", result)\n",
    "\n",
    "y_func = lambdify(x, result.rhs, modules=[\"numpy\"])\n",
    "x_vals = np.linspace(0, 2, 100)\n",
    "y_vals = y_func(x_vals)\n",
    "\n",
    "plt.plot(x_vals, y_vals)\n",
    "plt.xlabel(\"x\")\n",
    "plt.ylabel(\"y\")\n",
    "plt.show()"
   ]
  },
  {
   "cell_type": "markdown",
   "id": "ae9e58b8",
   "metadata": {},
   "source": [
    "### Seção 1.4 Exercicio 1\n"
   ]
  },
  {
   "cell_type": "code",
   "execution_count": 17,
   "id": "72e4c234",
   "metadata": {},
   "outputs": [
    {
     "name": "stdout",
     "output_type": "stream",
     "text": [
      "Equação diferencial:  Eq(x**2*Derivative(y(x), x), -2*x*y(x))\n",
      "Solução Geral:  Eq(y(x), C1/x**2)\n"
     ]
    }
   ],
   "source": [
    "y = Function(\"y\")\n",
    "\n",
    "eq = Eq(x**2 * Derivative(y(x), x), -2 * x * y(x))\n",
    "\n",
    "print(\"Equação diferencial: \", eq)\n",
    "print(\"Solução Geral: \", dsolve(eq, y(x)))"
   ]
  },
  {
   "cell_type": "markdown",
   "id": "387e32b0",
   "metadata": {},
   "source": [
    "### Seção 1.4 Exercicio 3\n"
   ]
  },
  {
   "cell_type": "code",
   "execution_count": 18,
   "id": "da55f103",
   "metadata": {},
   "outputs": [
    {
     "name": "stdout",
     "output_type": "stream",
     "text": [
      "Equação diferencial:  Eq(sin(y(x))*cos(x)*Derivative(y(x), x), -sin(x)*cos(y(x)))\n",
      "Solução Geral:  [Eq(y(x), -acos(C1/cos(x)) + 2*pi), Eq(y(x), acos(C1/cos(x)))]\n"
     ]
    }
   ],
   "source": [
    "y = Function(\"y\")\n",
    "\n",
    "eq = Eq(sin(y(x)) * cos(x) * Derivative(y(x), x), -sin(x) * cos(y(x)))\n",
    "\n",
    "print(\"Equação diferencial: \", eq)\n",
    "print(\"Solução Geral: \", dsolve(eq, y(x)))"
   ]
  },
  {
   "cell_type": "markdown",
   "id": "2b0e7311",
   "metadata": {},
   "source": [
    "### Seção 1.4 Exercicio 5\n"
   ]
  },
  {
   "cell_type": "code",
   "execution_count": 19,
   "id": "8f1f7ae0",
   "metadata": {},
   "outputs": [
    {
     "name": "stdout",
     "output_type": "stream",
     "text": [
      "Equação diferencial:  Eq(2*x*y(x)*Derivative(y(x), x), x**2 + y(x)**2)\n",
      "Solução Geral:  [Eq(y(x), -sqrt(x*(C1 + x))), Eq(y(x), sqrt(x*(C1 + x)))]\n"
     ]
    }
   ],
   "source": [
    "y = Function(\"y\")\n",
    "\n",
    "eq = Eq(2 * x * y(x) * Derivative(y(x), x), x**2 + y(x) ** 2)\n",
    "\n",
    "print(\"Equação diferencial: \", eq)\n",
    "print(\"Solução Geral: \", dsolve(eq, y(x)))"
   ]
  },
  {
   "cell_type": "markdown",
   "id": "8f36ac25",
   "metadata": {},
   "source": [
    "### Seção 1.4 Exercicio 9\n"
   ]
  },
  {
   "cell_type": "code",
   "execution_count": 20,
   "id": "a75f1a47",
   "metadata": {},
   "outputs": [
    {
     "name": "stdout",
     "output_type": "stream",
     "text": [
      "Equação diferencial:  Eq(exp(2*x)*sin(y(x))*Derivative(y(x), x), 2*exp(2*x)*cos(y(x)))\n",
      "Solução Geral:  [Eq(y(x), -acos(C1*exp(-2*x)) + 2*pi), Eq(y(x), acos(C1*exp(-2*x)))]\n",
      "Solução Particular:  Eq(y(x), acos(exp(-2*x)))\n"
     ]
    },
    {
     "data": {
      "image/png": "[encoded data removed]",
      "text/plain": [
       "<Figure size 640x480 with 1 Axes>"
      ]
     },
     "metadata": {},
     "output_type": "display_data"
    }
   ],
   "source": [
    "y = Function(\"y\")\n",
    "\n",
    "eq = Eq(sin(y(x)) * exp(2 * x) * Derivative(y(x), x), 2 * cos(y(x)) * exp(2 * x))\n",
    "result = dsolve(eq, y(x), ics={y(0): 0})\n",
    "\n",
    "print(\"Equação diferencial: \", eq)\n",
    "print(\"Solução Geral: \", dsolve(eq, y(x)))\n",
    "print(\"Solução Particular: \", result)\n",
    "\n",
    "y_func = lambdify(x, result.rhs, modules=[\"numpy\"])\n",
    "x_vals = np.linspace(0, 2, 100)\n",
    "y_vals = y_func(x_vals)\n",
    "\n",
    "plt.plot(x_vals, y_vals)\n",
    "plt.xlabel(\"x\")\n",
    "plt.ylabel(\"y\")\n",
    "plt.show()"
   ]
  },
  {
   "cell_type": "markdown",
   "id": "ede3a959",
   "metadata": {},
   "source": [
    "### Seção 1.5 Exercicio 3\n"
   ]
  },
  {
   "cell_type": "code",
   "execution_count": 21,
   "id": "06f3e87c",
   "metadata": {},
   "outputs": [
    {
     "name": "stdout",
     "output_type": "stream",
     "text": [
      "Equação diferencial:  Eq(-y(x) + Derivative(y(x), x), 5.2)\n",
      "Solução Geral:  Eq(y(x), C1*exp(x) - 5.2)\n"
     ]
    }
   ],
   "source": [
    "y = Function(\"y\")\n",
    "\n",
    "eq = Eq(Derivative(y(x), x) - y(x), 5.2)\n",
    "\n",
    "print(\"Equação diferencial: \", eq)\n",
    "print(\"Solução Geral: \", dsolve(eq, y(x)))"
   ]
  },
  {
   "cell_type": "markdown",
   "id": "d5f44f8c",
   "metadata": {},
   "source": [
    "### Seção 1.5 Exercicio 5\n"
   ]
  },
  {
   "cell_type": "code",
   "execution_count": null,
   "id": "61f712c1",
   "metadata": {},
   "outputs": [
    {
     "name": "stdout",
     "output_type": "stream",
     "text": [
      "Equação diferencial:  Eq(k*y(x) + Derivative(y(x), x), exp(-k*x))\n",
      "Solução Geral:  Eq(y(x), (C1 + x)*exp(-k*x))\n"
     ]
    },
    {
     "ename": "",
     "evalue": "",
     "output_type": "error",
     "traceback": [
      "\u001b[1;31mThe Kernel crashed while executing code in the current cell or a previous cell. \n",
      "\u001b[1;31mPlease review the code in the cell(s) to identify a possible cause of the failure. \n",
      "\u001b[1;31mClick <a href='https://aka.ms/vscodeJupyterKernelCrash'>here</a> for more info. \n",
      "\u001b[1;31mView Jupyter <a href='command:jupyter.viewOutput'>log</a> for further details."
     ]
    }
   ],
   "source": [
    "y = Function(\"y\")\n",
    "k = symbols(\"k\")\n",
    "\n",
    "eq = Eq(Derivative(y(x), x) + k * y(x), exp(-k * x))\n",
    "\n",
    "print(\"Equação diferencial: \", eq)\n",
    "print(\"Solução Geral: \", dsolve(eq, y(x)))"
   ]
  },
  {
   "cell_type": "markdown",
   "id": "2f5d6bec",
   "metadata": {},
   "source": [
    "### Seção 1.5 Exercicio 7\n"
   ]
  },
  {
   "cell_type": "code",
   "execution_count": null,
   "id": "372ac223",
   "metadata": {},
   "outputs": [
    {
     "name": "stdout",
     "output_type": "stream",
     "text": [
      "Equação diferencial:  Eq(x*Derivative(y(x), x), x**3*exp(x) + 2*y(x))\n",
      "Solução Geral:  Eq(y(x), x**2*(C1 + exp(x)))\n"
     ]
    }
   ],
   "source": [
    "y = Function(\"y\")\n",
    "\n",
    "eq = Eq(Derivative(y(x), x) * x, 2 * y(x) + x**3 * exp(x))\n",
    "\n",
    "print(\"Equação diferencial: \", eq)\n",
    "print(\"Solução Geral: \", dsolve(eq, y(x)))"
   ]
  }
 ],
 "metadata": {
  "kernelspec": {
   "display_name": ".venv",
   "language": "python",
   "name": "python3"
  },
  "language_info": {
   "codemirror_mode": {
    "name": "ipython",
    "version": 3
   },
   "file_extension": ".py",
   "mimetype": "text/x-python",
   "name": "python",
   "nbconvert_exporter": "python",
   "pygments_lexer": "ipython3",
   "version": "3.10.11"
  }
 },
 "nbformat": 4,
 "nbformat_minor": 5
}
